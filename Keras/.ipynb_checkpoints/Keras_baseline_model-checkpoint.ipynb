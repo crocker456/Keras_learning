{
 "cells": [
  {
   "cell_type": "markdown",
   "metadata": {},
   "source": [
    "# Using Keras \n",
    "### Bryant Crocker\n",
    "\n",
    "Recently I have been playing around a bit with the keras python package and trying to learn more about neural networks.  I was briefly introduced to neural networks in my STAT 295 Introductory To Statistical Learning course.  \n",
    "\n",
    ">Neural networks have 3 main components:\n",
    ">\n",
    ">* Input Layer - The input layer brings the initial data into the system, one input node is typically made per predictor\n",
    ">\n",
    ">* Hidden Layer - weights that are used to transform input layer\n",
    ">\n",
    ">* Output Layer - The last layed that processes the system into scalar predictions"
   ]
  },
  {
   "cell_type": "markdown",
   "metadata": {},
   "source": [
    "### Example Neural Network Structure"
   ]
  },
  {
   "cell_type": "markdown",
   "metadata": {},
   "source": [
    "![alt text](https://www.researchgate.net/profile/Azman_Azid3/publication/283149028/figure/fig2/AS:288382870671361@1445767242473/Network-structure-of-a-multilayer-feed-forward-artificial-neural-network-ML-FF-ANN.png \"Neural Network Structure\")"
   ]
  },
  {
   "cell_type": "code",
   "execution_count": 112,
   "metadata": {},
   "outputs": [],
   "source": [
    "#import necessary libraries\n",
    "import seaborn as sns \n",
    "import numpy\n",
    "import pandas\n",
    "from keras.models import Sequential\n",
    "from keras.layers import Dense\n",
    "from keras.wrappers.scikit_learn import KerasClassifier\n",
    "from keras.utils import np_utils\n",
    "from sklearn.model_selection import cross_val_score\n",
    "from sklearn.model_selection import KFold\n",
    "from sklearn.preprocessing import LabelEncoder\n",
    "from sklearn.pipeline import Pipeline\n",
    "%matplotlib inline \n",
    "df = sns.load_dataset('iris')"
   ]
  },
  {
   "cell_type": "markdown",
   "metadata": {},
   "source": [
    "I'll start off with a few exploratory plots and summaries to show some features of the iris data incase you are not familar."
   ]
  },
  {
   "cell_type": "code",
   "execution_count": 113,
   "metadata": {},
   "outputs": [
    {
     "name": "stdout",
     "output_type": "stream",
     "text": [
      "   sepal_length  sepal_width  petal_length  petal_width species\n",
      "0           5.1          3.5           1.4          0.2  setosa\n",
      "1           4.9          3.0           1.4          0.2  setosa\n",
      "2           4.7          3.2           1.3          0.2  setosa\n",
      "3           4.6          3.1           1.5          0.2  setosa\n",
      "4           5.0          3.6           1.4          0.2  setosa\n"
     ]
    }
   ],
   "source": [
    "# look at the first few rows\n",
    "print(df.head())"
   ]
  },
  {
   "cell_type": "markdown",
   "metadata": {},
   "source": [
    "Peaking at a few histograms it is easy to see that there is a clear seperation between the two classes with respect to petal length. Setosa has the shortest petal length on average."
   ]
  },
  {
   "cell_type": "code",
   "execution_count": 119,
   "metadata": {},
   "outputs": [
    {
     "data": {
      "image/png": "[encoded data removed]",
      "text/plain": [
       "<matplotlib.figure.Figure at 0x1a25132908>"
      ]
     },
     "metadata": {},
     "output_type": "display_data"
    }
   ],
   "source": [
    "# loop over and plot relevant columns\n",
    "cols = df.columns[0:3]\n",
    "x = 0\n",
    "fig, ax = plt.subplots(1, 3, figsize =(16,9))\n",
    "for i in cols:\n",
    "    ax = ax.ravel()\n",
    "    ax[x].hist(df[df.species == \"setosa\"][i], label = 'setosa', alpha = 0.4)\n",
    "    ax[x].hist(df[df.species == 'versicolor'][i], label = 'versicolor', alpha = 0.4)\n",
    "    ax[x].hist(df[df.species == 'virginica'][i], label = 'virginica', alpha = 0.4)\n",
    "    ax[x].legend(loc = 'best')\n",
    "    ax[x].set_xlabel(i)\n",
    "    x += 1\n",
    "plt.show()"
   ]
  },
  {
   "cell_type": "markdown",
   "metadata": {},
   "source": [
    "Luckily, the counts of the 3 species are equal, class imbalance can make it hard to for classifiers to recall minority classes."
   ]
  },
  {
   "cell_type": "code",
   "execution_count": 105,
   "metadata": {},
   "outputs": [
    {
     "data": {
      "image/png": "[encoded data removed]",
      "text/plain": [
       "<matplotlib.figure.Figure at 0x1a25e65978>"
      ]
     },
     "metadata": {},
     "output_type": "display_data"
    }
   ],
   "source": [
    "df['species'].value_counts().plot(kind = \"bar\", figsize =(14,8))\n",
    "plt.xlabel(\"Species\")\n",
    "plt.ylabel(\"Count\")\n",
    "plt.show()"
   ]
  },
  {
   "cell_type": "markdown",
   "metadata": {},
   "source": [
    "I next perform a few preprocessing steps for the classification:\n",
    "I encode each label as an integer and then one hot encode them.  "
   ]
  },
  {
   "cell_type": "code",
   "execution_count": 108,
   "metadata": {},
   "outputs": [],
   "source": [
    "X = df.drop('species', 1).values\n",
    "y = df['species'].values\n",
    "# encode values as ints\n",
    "encoder = LabelEncoder()\n",
    "encoder.fit(y)\n",
    "encoded_Y = encoder.transform(y)\n",
    "# convert ints to one hot encoded dummy vars\n",
    "dummy_y = np_utils.to_categorical(encoded_Y)"
   ]
  },
  {
   "cell_type": "markdown",
   "metadata": {},
   "source": [
    "I next define the keras model and evaluate it"
   ]
  },
  {
   "cell_type": "code",
   "execution_count": 121,
   "metadata": {},
   "outputs": [
    {
     "name": "stdout",
     "output_type": "stream",
     "text": [
      "Baseline average cross valadation accuracy: 98.00% (4.27%)\n",
      "fold 1 accuracy 1.0\n",
      "fold 2 accuracy 1.0\n",
      "fold 3 accuracy 1.0\n",
      "fold 4 accuracy 1.0\n",
      "fold 5 accuracy 1.0\n",
      "fold 6 accuracy 0.9333333373069763\n",
      "fold 7 accuracy 1.0\n",
      "fold 8 accuracy 1.0\n",
      "fold 9 accuracy 1.0\n",
      "fold 10 accuracy 0.8666666746139526\n"
     ]
    }
   ],
   "source": [
    "def baseline_model():\n",
    "    '''This fucntion defines and compiles a basic keras model on the Iris dataset'''\n",
    "    # create model\n",
    "    model = Sequential()\n",
    "    #create hidden layer\n",
    "    model.add(Dense(8, input_dim=4, activation='relu'))\n",
    "    #create output layer\n",
    "    model.add(Dense(3, activation='softmax'))\n",
    "    # Compile model\n",
    "    model.compile(loss='categorical_crossentropy', optimizer='adam', metrics=['accuracy'])\n",
    "    return model\n",
    "estimator = KerasClassifier(build_fn=baseline_model, epochs=200, batch_size=5, verbose=0)\n",
    "kfold = KFold(n_splits=10, shuffle=True, random_state=1)\n",
    "results = cross_val_score(estimator, X, dummy_y, cv=kfold)\n",
    "print(\"Baseline average cross valadation accuracy: %.2f%% (%.2f%%)\" % (results.mean()*100, results.std()*100))\n",
    "x = 1\n",
    "for i in results:\n",
    "    print(\"fold\", x , \"accuracy\", i )\n",
    "    x += 1"
   ]
  }
 ],
 "metadata": {
  "kernelspec": {
   "display_name": "Python 3",
   "language": "python",
   "name": "python3"
  },
  "language_info": {
   "codemirror_mode": {
    "name": "ipython",
    "version": 3
   },
   "file_extension": ".py",
   "mimetype": "text/x-python",
   "name": "python",
   "nbconvert_exporter": "python",
   "pygments_lexer": "ipython3",
   "version": "3.6.2"
  }
 },
 "nbformat": 4,
 "nbformat_minor": 2
}
